{
 "cells": [
  {
   "cell_type": "code",
   "execution_count": 1,
   "id": "68a8e6c9",
   "metadata": {},
   "outputs": [],
   "source": [
    "# Import necessary libraries\n",
    "import pandas as pd\n",
    "import matplotlib.pyplot as plt\n",
    "import seaborn as sns\n",
    "from sklearn.model_selection import train_test_split\n",
    "from sklearn.preprocessing import StandardScaler\n",
    "from sklearn.neighbors import KNeighborsClassifier\n",
    "from sklearn.metrics import accuracy_score, confusion_matrix, classification_report"
   ]
  },
  {
   "cell_type": "code",
   "execution_count": null,
   "id": "293b200c",
   "metadata": {},
   "outputs": [],
   "source": [
    "# Load the dataset\n",
    "file_path = 'framingham.csv' \n",
    "df = pd.read_csv(file_path)\n",
    "\n",
    "# Visualize relationships between variables        \n",
    "# Correlation heatmap\n",
    "plt.figure(figsize=(12, 8))\n",
    "sns.heatmap(df.corr(), annot=True, cmap='coolwarm', fmt='.2f')\n",
    "plt.savefig('correlation_heatmap.png')  # Save the heatmap to a file\n",
    "plt.close()"
   ]
  },
  {
   "cell_type": "code",
   "execution_count": 4,
   "id": "e0e0f6e8",
   "metadata": {},
   "outputs": [],
   "source": [
    "# Handle missing values\n",
    "df['education'] = df['education'].fillna(df['education'].mode()[0])\n",
    "df['cigsPerDay'] = df['cigsPerDay'].fillna(df['cigsPerDay'].median())\n",
    "df['BPMeds'] = df['BPMeds'].fillna(df['BPMeds'].median())\n",
    "df['totChol'] = df['totChol'].fillna(df['totChol'].median())\n",
    "df['BMI'] = df['BMI'].fillna(df['BMI'].median())\n",
    "df['heartRate'] = df['heartRate'].fillna(df['heartRate'].median())\n",
    "df['glucose'] = df['glucose'].fillna(df['glucose'].median())\n",
    "\n",
    "# Normalize the numerical features\n",
    "X = df.drop(columns=['TenYearCHD'])\n",
    "y = df['TenYearCHD']\n",
    "\n",
    "scaler = StandardScaler()\n",
    "X_scaled = scaler.fit_transform(X)"
   ]
  },
  {
   "cell_type": "code",
   "execution_count": 7,
   "id": "ffdeaba9",
   "metadata": {},
   "outputs": [
    {
     "name": "stdout",
     "output_type": "stream",
     "text": [
      "Results for K=3:\n",
      "Accuracy: 0.8136792452830188\n",
      "Confusion Matrix:\n",
      "[[676  49]\n",
      " [109  14]]\n",
      "Classification Report:\n",
      "              precision    recall  f1-score   support\n",
      "\n",
      "           0       0.86      0.93      0.90       725\n",
      "           1       0.22      0.11      0.15       123\n",
      "\n",
      "    accuracy                           0.81       848\n",
      "   macro avg       0.54      0.52      0.52       848\n",
      "weighted avg       0.77      0.81      0.79       848\n",
      "\n",
      "==================================================\n",
      "Results for K=5:\n",
      "Accuracy: 0.8301886792452831\n",
      "Confusion Matrix:\n",
      "[[698  27]\n",
      " [117   6]]\n",
      "Classification Report:\n",
      "              precision    recall  f1-score   support\n",
      "\n",
      "           0       0.86      0.96      0.91       725\n",
      "           1       0.18      0.05      0.08       123\n",
      "\n",
      "    accuracy                           0.83       848\n",
      "   macro avg       0.52      0.51      0.49       848\n",
      "weighted avg       0.76      0.83      0.79       848\n",
      "\n",
      "==================================================\n",
      "Results for K=7:\n",
      "Accuracy: 0.8325471698113207\n",
      "Confusion Matrix:\n",
      "[[702  23]\n",
      " [119   4]]\n",
      "Classification Report:\n",
      "              precision    recall  f1-score   support\n",
      "\n",
      "           0       0.86      0.97      0.91       725\n",
      "           1       0.15      0.03      0.05       123\n",
      "\n",
      "    accuracy                           0.83       848\n",
      "   macro avg       0.50      0.50      0.48       848\n",
      "weighted avg       0.75      0.83      0.78       848\n",
      "\n",
      "==================================================\n"
     ]
    }
   ],
   "source": [
    "# Split the dataset into training and testing sets (80/20 split)\n",
    "X_train, X_test, y_train, y_test = train_test_split(X_scaled, y, test_size=0.2, random_state=42)\n",
    "\n",
    "# Try different values of K (e.g., K=3, 5, 7)\n",
    "k_values = [3, 5, 7]\n",
    "results = {}\n",
    "\n",
    "# Train and evaluate the models\n",
    "for k in k_values:\n",
    "    knn = KNeighborsClassifier(n_neighbors=k)\n",
    "    knn.fit(X_train, y_train)\n",
    "    \n",
    "    y_pred = knn.predict(X_test)\n",
    "    accuracy = accuracy_score(y_test, y_pred)\n",
    "    \n",
    "    results[k] = {\n",
    "        'accuracy': accuracy,\n",
    "        'confusion_matrix': confusion_matrix(y_test, y_pred),\n",
    "        'classification_report': classification_report(y_test, y_pred)\n",
    "    }\n",
    "    \n",
    "     # Print results for each K model\n",
    "    print(f\"Results for K={k}:\")\n",
    "    print(f\"Accuracy: {results[k]['accuracy']}\")\n",
    "    print(\"Confusion Matrix:\")\n",
    "    print(results[k]['confusion_matrix'])\n",
    "    print(\"Classification Report:\")\n",
    "    print(results[k]['classification_report'])\n",
    "    print(\"=\"*50)"
   ]
  },
  {
   "cell_type": "code",
   "execution_count": 6,
   "id": "3c5f690a",
   "metadata": {},
   "outputs": [
    {
     "name": "stdout",
     "output_type": "stream",
     "text": [
      "The best model is with K = 7.\n",
      "Accuracy: 0.8325471698113207\n",
      "Confusion Matrix:\n",
      "[[702  23]\n",
      " [119   4]]\n",
      "Classification Report:\n",
      "              precision    recall  f1-score   support\n",
      "\n",
      "           0       0.86      0.97      0.91       725\n",
      "           1       0.15      0.03      0.05       123\n",
      "\n",
      "    accuracy                           0.83       848\n",
      "   macro avg       0.50      0.50      0.48       848\n",
      "weighted avg       0.75      0.83      0.78       848\n",
      "\n"
     ]
    }
   ],
   "source": [
    "# Automatically choose the best model based on highest accuracy\n",
    "best_k = max(results, key=lambda k: results[k]['accuracy'])\n",
    "\n",
    "print(f\"The best model is with K = {best_k}.\")\n",
    "print(f\"Accuracy: {results[best_k]['accuracy']}\")\n",
    "print(\"Confusion Matrix:\")\n",
    "print(results[best_k]['confusion_matrix'])\n",
    "print(\"Classification Report:\")\n",
    "print(results[best_k]['classification_report'])"
   ]
  }
 ],
 "metadata": {
  "kernelspec": {
   "display_name": "Python 3",
   "language": "python",
   "name": "python3"
  },
  "language_info": {
   "codemirror_mode": {
    "name": "ipython",
    "version": 3
   },
   "file_extension": ".py",
   "mimetype": "text/x-python",
   "name": "python",
   "nbconvert_exporter": "python",
   "pygments_lexer": "ipython3",
   "version": "3.13.2"
  }
 },
 "nbformat": 4,
 "nbformat_minor": 5
}
